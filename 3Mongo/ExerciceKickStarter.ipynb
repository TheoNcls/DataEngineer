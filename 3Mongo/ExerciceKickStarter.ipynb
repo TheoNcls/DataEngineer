{
 "cells": [
  {
   "cell_type": "markdown",
   "metadata": {},
   "source": [
    "#  Consignes\n",
    "\n",
    "## Description\n",
    "\n",
    "Ouvrir le fichier ks-projects-201801.csv, il recense environ 100 000 projets KickStarter. Intégrer les données directement avec L'API Python dans une base de données Mongo. \n",
    "\n",
    "Il conviendra de bien spécifier manuellement l'ID du document. Pensez aussi à bien formatter le type des données pour profiter des méthodes implémentées par Mongo. L'ensemble de données n'est pas forcément nécessaire, c'est à vous de créer votre modèle de données.\n",
    "\n",
    "## Questions\n",
    "\n",
    "- 1) Récupérer les 5 projets ayant reçu le plus de promesse de dons.\n",
    "- 2) Compter le nombre de projets ayant atteint leur but.\n",
    "- 3) Compter le nombre de projets pour chaque catégorie.\n",
    "- 4) Compter le nombre de projets français ayant été instanciés avant 2016.\n",
    "- 5) Récupérer les projets américains ayant demandé plus de 200 000 dollars.\n",
    "- 6) Compter le nombre de projet ayant \"Sport\" dans leur nom"
   ]
  },
  {
   "cell_type": "code",
   "execution_count": 1,
   "metadata": {},
   "outputs": [],
   "source": [
    "import pandas as pd\n",
    "import pymongo"
   ]
  },
  {
   "cell_type": "code",
   "execution_count": 2,
   "metadata": {},
   "outputs": [],
   "source": [
    "client = pymongo.MongoClient()\n",
    "database = client['exercices']\n",
    "collection = database['kickstarter']"
   ]
  },
  {
   "cell_type": "code",
   "execution_count": 3,
   "metadata": {},
   "outputs": [
    {
     "name": "stderr",
     "output_type": "stream",
     "text": [
      "c:\\users\\nicol\\appdata\\local\\programs\\python\\python36\\lib\\site-packages\\IPython\\core\\interactiveshell.py:3072: DtypeWarning: Columns (6,8,10,12) have mixed types.Specify dtype option on import or set low_memory=False.\n",
      "  interactivity=interactivity, compiler=compiler, result=result)\n"
     ]
    },
    {
     "data": {
      "text/html": [
       "<div>\n",
       "<style scoped>\n",
       "    .dataframe tbody tr th:only-of-type {\n",
       "        vertical-align: middle;\n",
       "    }\n",
       "\n",
       "    .dataframe tbody tr th {\n",
       "        vertical-align: top;\n",
       "    }\n",
       "\n",
       "    .dataframe thead th {\n",
       "        text-align: right;\n",
       "    }\n",
       "</style>\n",
       "<table border=\"1\" class=\"dataframe\">\n",
       "  <thead>\n",
       "    <tr style=\"text-align: right;\">\n",
       "      <th></th>\n",
       "      <th>ID</th>\n",
       "      <th>name</th>\n",
       "      <th>category</th>\n",
       "      <th>main_category</th>\n",
       "      <th>currency</th>\n",
       "      <th>deadline</th>\n",
       "      <th>goal</th>\n",
       "      <th>launched</th>\n",
       "      <th>pledged</th>\n",
       "      <th>state</th>\n",
       "      <th>backers</th>\n",
       "      <th>country</th>\n",
       "      <th>usd pledged</th>\n",
       "      <th>usd_pledged_real</th>\n",
       "    </tr>\n",
       "  </thead>\n",
       "  <tbody>\n",
       "    <tr>\n",
       "      <th>0</th>\n",
       "      <td>872782264</td>\n",
       "      <td>Scott Cooper's Solo CD \"A Leg Trick\" (Canceled)</td>\n",
       "      <td>Rock</td>\n",
       "      <td>Music</td>\n",
       "      <td>USD</td>\n",
       "      <td>2011-09-16</td>\n",
       "      <td>2000</td>\n",
       "      <td>2011-08-17 06:31:31</td>\n",
       "      <td>1145</td>\n",
       "      <td>canceled</td>\n",
       "      <td>24</td>\n",
       "      <td>US</td>\n",
       "      <td>1145</td>\n",
       "      <td>1145.000000</td>\n",
       "    </tr>\n",
       "    <tr>\n",
       "      <th>1</th>\n",
       "      <td>1326492673</td>\n",
       "      <td>Ohceola jewelry</td>\n",
       "      <td>Fashion</td>\n",
       "      <td>Fashion</td>\n",
       "      <td>USD</td>\n",
       "      <td>2012-08-22</td>\n",
       "      <td>18000</td>\n",
       "      <td>2012-07-23 20:46:48</td>\n",
       "      <td>1851</td>\n",
       "      <td>failed</td>\n",
       "      <td>28</td>\n",
       "      <td>US</td>\n",
       "      <td>1851</td>\n",
       "      <td>1851.000000</td>\n",
       "    </tr>\n",
       "    <tr>\n",
       "      <th>2</th>\n",
       "      <td>1688410639</td>\n",
       "      <td>Sluff Off &amp; Harald: Two latest EGGs are Classi...</td>\n",
       "      <td>Tabletop Games</td>\n",
       "      <td>Games</td>\n",
       "      <td>USD</td>\n",
       "      <td>2016-07-19</td>\n",
       "      <td>2000</td>\n",
       "      <td>2016-07-01 21:55:54</td>\n",
       "      <td>7534</td>\n",
       "      <td>successful</td>\n",
       "      <td>254</td>\n",
       "      <td>US</td>\n",
       "      <td>3796</td>\n",
       "      <td>7534.000000</td>\n",
       "    </tr>\n",
       "    <tr>\n",
       "      <th>3</th>\n",
       "      <td>156812982</td>\n",
       "      <td>SketchPlanner: Create and Plan- all in one bea...</td>\n",
       "      <td>Art Books</td>\n",
       "      <td>Publishing</td>\n",
       "      <td>USD</td>\n",
       "      <td>2017-09-27</td>\n",
       "      <td>13000</td>\n",
       "      <td>2017-08-28 15:47:02</td>\n",
       "      <td>16298</td>\n",
       "      <td>successful</td>\n",
       "      <td>367</td>\n",
       "      <td>US</td>\n",
       "      <td>2670</td>\n",
       "      <td>16298.000000</td>\n",
       "    </tr>\n",
       "    <tr>\n",
       "      <th>4</th>\n",
       "      <td>1835968190</td>\n",
       "      <td>Proven sales with custom motorcycle accessories</td>\n",
       "      <td>Sculpture</td>\n",
       "      <td>Art</td>\n",
       "      <td>CAD</td>\n",
       "      <td>2016-02-24</td>\n",
       "      <td>5000</td>\n",
       "      <td>2016-01-25 17:37:10</td>\n",
       "      <td>1</td>\n",
       "      <td>failed</td>\n",
       "      <td>1</td>\n",
       "      <td>CA</td>\n",
       "      <td>0.708148</td>\n",
       "      <td>0.738225</td>\n",
       "    </tr>\n",
       "  </tbody>\n",
       "</table>\n",
       "</div>"
      ],
      "text/plain": [
       "           ID                                               name  \\\n",
       "0   872782264    Scott Cooper's Solo CD \"A Leg Trick\" (Canceled)   \n",
       "1  1326492673                                    Ohceola jewelry   \n",
       "2  1688410639  Sluff Off & Harald: Two latest EGGs are Classi...   \n",
       "3   156812982  SketchPlanner: Create and Plan- all in one bea...   \n",
       "4  1835968190    Proven sales with custom motorcycle accessories   \n",
       "\n",
       "         category main_category currency    deadline   goal  \\\n",
       "0            Rock         Music      USD  2011-09-16   2000   \n",
       "1         Fashion       Fashion      USD  2012-08-22  18000   \n",
       "2  Tabletop Games         Games      USD  2016-07-19   2000   \n",
       "3       Art Books    Publishing      USD  2017-09-27  13000   \n",
       "4       Sculpture           Art      CAD  2016-02-24   5000   \n",
       "\n",
       "              launched pledged       state backers country usd pledged  \\\n",
       "0  2011-08-17 06:31:31    1145    canceled      24      US        1145   \n",
       "1  2012-07-23 20:46:48    1851      failed      28      US        1851   \n",
       "2  2016-07-01 21:55:54    7534  successful     254      US        3796   \n",
       "3  2017-08-28 15:47:02   16298  successful     367      US        2670   \n",
       "4  2016-01-25 17:37:10       1      failed       1      CA    0.708148   \n",
       "\n",
       "   usd_pledged_real  \n",
       "0       1145.000000  \n",
       "1       1851.000000  \n",
       "2       7534.000000  \n",
       "3      16298.000000  \n",
       "4          0.738225  "
      ]
     },
     "execution_count": 3,
     "metadata": {},
     "output_type": "execute_result"
    }
   ],
   "source": [
    "df_ks = pd.read_csv(\"./data/ks-projects-201801-sample.csv\")\n",
    "df_ks.head()"
   ]
  },
  {
   "cell_type": "markdown",
   "metadata": {},
   "source": [
    "Ce warning intervient lorsque pandas n'arrive pas à inférer le type de données. Il est sympa il précise les colones 6,8,10,12. "
   ]
  },
  {
   "cell_type": "code",
   "execution_count": 4,
   "metadata": {},
   "outputs": [
    {
     "data": {
      "text/plain": [
       "Index(['goal', 'pledged', 'backers', 'usd pledged'], dtype='object')"
      ]
     },
     "execution_count": 4,
     "metadata": {},
     "output_type": "execute_result"
    }
   ],
   "source": [
    "df_ks.columns[[6,8,10,12]]"
   ]
  },
  {
   "cell_type": "markdown",
   "metadata": {},
   "source": [
    "## Question 0"
   ]
  },
  {
   "cell_type": "code",
   "execution_count": 5,
   "metadata": {},
   "outputs": [
    {
     "data": {
      "text/plain": [
       "ID                    int64\n",
       "name                 object\n",
       "category             object\n",
       "main_category        object\n",
       "currency             object\n",
       "deadline             object\n",
       "goal                 object\n",
       "launched             object\n",
       "pledged              object\n",
       "state                object\n",
       "backers              object\n",
       "country              object\n",
       "usd pledged          object\n",
       "usd_pledged_real    float64\n",
       "dtype: object"
      ]
     },
     "execution_count": 5,
     "metadata": {},
     "output_type": "execute_result"
    }
   ],
   "source": [
    "df_ks.dtypes"
   ]
  },
  {
   "cell_type": "code",
   "execution_count": 56,
   "metadata": {},
   "outputs": [],
   "source": [
    "#On supprime les colonnes\n",
    "\n",
    "#On modifie\n",
    "df_ks[\"launched\"] = df_ks[\"launched\"].str[:4]\n",
    "df_ks = df_ks.rename({\"usd pledged\":\"usd_pledged\"}, axis='columns')\n",
    "\n",
    "df_ks['pledged'] = df_ks['pledged'].astype('float64')\n",
    "df_ks['state'] = df_ks['state'].astype('string')\n",
    "df_ks['name'] = df_ks['name'].astype('string')\n",
    "\n",
    "df_ks = df_ks.dropna()"
   ]
  },
  {
   "cell_type": "markdown",
   "metadata": {},
   "source": [
    "### Netoyer les données"
   ]
  },
  {
   "cell_type": "markdown",
   "metadata": {
    "slideshow": {
     "slide_type": "slide"
    }
   },
   "source": [
    "### Importer les données"
   ]
  },
  {
   "cell_type": "code",
   "execution_count": 57,
   "metadata": {},
   "outputs": [],
   "source": [
    "dict_ks = df_ks.to_dict(orient='records')"
   ]
  },
  {
   "cell_type": "code",
   "execution_count": 58,
   "metadata": {},
   "outputs": [
    {
     "data": {
      "text/plain": [
       "<pymongo.results.InsertManyResult at 0x1de2e418548>"
      ]
     },
     "execution_count": 58,
     "metadata": {},
     "output_type": "execute_result"
    }
   ],
   "source": [
    "collection.insert_many(dict_ks)"
   ]
  },
  {
   "cell_type": "markdown",
   "metadata": {},
   "source": [
    "## Question 1  "
   ]
  },
  {
   "cell_type": "code",
   "execution_count": 59,
   "metadata": {},
   "outputs": [
    {
     "data": {
      "text/plain": [
       "[{'_id': ObjectId('60210c8d76ed13ebdcfbfbd9'),\n",
       "  'name': \"COOLEST COOLER: 21st Century Cooler that's Actually Cooler\",\n",
       "  'category': 'Product Design',\n",
       "  'main_category': 'Design',\n",
       "  'goal': '50000.0',\n",
       "  'launched': '2014',\n",
       "  'pledged': 13285226.36,\n",
       "  'state': 'successful',\n",
       "  'country': 'US',\n",
       "  'usd_pledged': '13285226.36',\n",
       "  'usd_pledged_real': 13285226.36},\n",
       " {'_id': ObjectId('60210c4e76ed13ebdcf76b02'),\n",
       "  'name': \"COOLEST COOLER: 21st Century Cooler that's Actually Cooler\",\n",
       "  'category': 'Product Design',\n",
       "  'main_category': 'Design',\n",
       "  'goal': '50000.0',\n",
       "  'launched': '2014',\n",
       "  'pledged': 13285226.36,\n",
       "  'state': 'successful',\n",
       "  'country': 'US',\n",
       "  'usd_pledged': '13285226.36',\n",
       "  'usd_pledged_real': 13285226.36},\n",
       " {'_id': ObjectId('6021108176ed13ebdc00841f'),\n",
       "  'name': \"COOLEST COOLER: 21st Century Cooler that's Actually Cooler\",\n",
       "  'category': 'Product Design',\n",
       "  'main_category': 'Design',\n",
       "  'goal': '50000.0',\n",
       "  'launched': '2014',\n",
       "  'pledged': 13285226.36,\n",
       "  'state': 'successful',\n",
       "  'country': 'US',\n",
       "  'usd_pledged': '13285226.36',\n",
       "  'usd_pledged_real': 13285226.36},\n",
       " {'_id': ObjectId('60210d1b76ed13ebdcfe3ffc'),\n",
       "  'name': \"COOLEST COOLER: 21st Century Cooler that's Actually Cooler\",\n",
       "  'category': 'Product Design',\n",
       "  'main_category': 'Design',\n",
       "  'goal': '50000.0',\n",
       "  'launched': '2014',\n",
       "  'pledged': 13285226.36,\n",
       "  'state': 'successful',\n",
       "  'country': 'US',\n",
       "  'usd_pledged': '13285226.36',\n",
       "  'usd_pledged_real': 13285226.36},\n",
       " {'_id': ObjectId('60210c7176ed13ebdcf9b4f1'),\n",
       "  'name': \"COOLEST COOLER: 21st Century Cooler that's Actually Cooler\",\n",
       "  'category': 'Product Design',\n",
       "  'main_category': 'Design',\n",
       "  'goal': '50000.0',\n",
       "  'launched': '2014',\n",
       "  'pledged': 13285226.36,\n",
       "  'state': 'successful',\n",
       "  'country': 'US',\n",
       "  'usd_pledged': '13285226.36',\n",
       "  'usd_pledged_real': 13285226.36}]"
      ]
     },
     "execution_count": 59,
     "metadata": {},
     "output_type": "execute_result"
    }
   ],
   "source": [
    "#Récupérer les 5 projets ayant reçu le plus de promesse de dons.\n",
    "plusdon = collection.find().sort([(\"pledged\",-1)]).limit(5)\n",
    "list(plusdon)"
   ]
  },
  {
   "cell_type": "markdown",
   "metadata": {},
   "source": [
    "## Question 2"
   ]
  },
  {
   "cell_type": "code",
   "execution_count": 60,
   "metadata": {},
   "outputs": [
    {
     "data": {
      "text/plain": [
       "[{'_id': 'successful', 'number': 229644},\n",
       " {'_id': 'suspended', 'number': 3234},\n",
       " {'_id': 'live', 'number': 4908},\n",
       " {'_id': 'failed', 'number': 339523},\n",
       " {'_id': 'undefined', 'number': 1846},\n",
       " {'_id': 'canceled', 'number': 66390}]"
      ]
     },
     "execution_count": 60,
     "metadata": {},
     "output_type": "execute_result"
    }
   ],
   "source": [
    "#Compter le nombre de projets ayant atteint leur but.\n",
    "succes = collection.aggregate([{\"$group\":{\"_id\":\"$state\",\"number\":{\"$sum\":1}}}])\n",
    "list(succes)"
   ]
  },
  {
   "cell_type": "markdown",
   "metadata": {},
   "source": [
    "## Question 3"
   ]
  },
  {
   "cell_type": "code",
   "execution_count": 61,
   "metadata": {},
   "outputs": [
    {
     "data": {
      "text/plain": [
       "[{'_id': 'Musical', 'total': 1599},\n",
       " {'_id': 'Fantasy', 'total': 578},\n",
       " {'_id': 'Video Games', 'total': 20893},\n",
       " {'_id': 'Performance Art', 'total': 3733},\n",
       " {'_id': 'Animals', 'total': 409},\n",
       " {'_id': 'Small Batch', 'total': 3057},\n",
       " {'_id': 'Interactive Design', 'total': 626},\n",
       " {'_id': 'Periodicals', 'total': 2223},\n",
       " {'_id': 'Embroidery', 'total': 209},\n",
       " {'_id': 'Rock', 'total': 11651},\n",
       " {'_id': 'Wearables', 'total': 2208},\n",
       " {'_id': 'Zines', 'total': 600},\n",
       " {'_id': \"Farmer's Markets\", 'total': 783},\n",
       " {'_id': 'Kids', 'total': 469},\n",
       " {'_id': 'Photobooks', 'total': 2656},\n",
       " {'_id': 'Action', 'total': 1246},\n",
       " {'_id': 'Letterpress', 'total': 114},\n",
       " {'_id': 'Technology', 'total': 11661},\n",
       " {'_id': 'Calendars', 'total': 486},\n",
       " {'_id': 'Radio & Podcasts', 'total': 1513},\n",
       " {'_id': 'Textiles', 'total': 457},\n",
       " {'_id': 'Indie Rock', 'total': 9450},\n",
       " {'_id': 'Chiptune', 'total': 46},\n",
       " {'_id': 'Print', 'total': 1269},\n",
       " {'_id': 'Punk', 'total': 535},\n",
       " {'_id': 'Animation', 'total': 4439},\n",
       " {'_id': 'Quilts', 'total': 140},\n",
       " {'_id': 'Robots', 'total': 1029},\n",
       " {'_id': 'Festivals', 'total': 1319},\n",
       " {'_id': 'Community Gardens', 'total': 507},\n",
       " {'_id': 'Fabrication Tools', 'total': 422},\n",
       " {'_id': 'Documentary', 'total': 28189},\n",
       " {'_id': 'Public Art', 'total': 5430},\n",
       " {'_id': 'Ceramics', 'total': 552},\n",
       " {'_id': 'Comic Books', 'total': 4404},\n",
       " {'_id': 'Movie Theaters', 'total': 398},\n",
       " {'_id': 'Thrillers', 'total': 1326},\n",
       " {'_id': 'Academic', 'total': 1613},\n",
       " {'_id': 'Puzzles', 'total': 417},\n",
       " {'_id': 'Graphic Design', 'total': 3355},\n",
       " {'_id': 'Comics', 'total': 8347},\n",
       " {'_id': 'Gaming Hardware', 'total': 782},\n",
       " {'_id': 'Vegan', 'total': 1005},\n",
       " {'_id': 'Publishing', 'total': 9527},\n",
       " {'_id': 'Fiction', 'total': 16033},\n",
       " {'_id': 'Makerspaces', 'total': 395},\n",
       " {'_id': 'Film & Video', 'total': 16367},\n",
       " {'_id': 'Installations', 'total': 768},\n",
       " {'_id': 'Sound', 'total': 1097},\n",
       " {'_id': 'Nonfiction', 'total': 14690},\n",
       " {'_id': 'Residencies', 'total': 136},\n",
       " {'_id': 'Ready-to-wear', 'total': 1408},\n",
       " {'_id': 'Comedy', 'total': 3975},\n",
       " {'_id': 'Pottery', 'total': 174},\n",
       " {'_id': 'Restaurants', 'total': 4752},\n",
       " {'_id': 'Hip-Hop', 'total': 6713},\n",
       " {'_id': 'Horror', 'total': 2293},\n",
       " {'_id': 'Art Books', 'total': 4609},\n",
       " {'_id': 'Woodworking', 'total': 1843},\n",
       " {'_id': 'Playing Cards', 'total': 4243},\n",
       " {'_id': 'Webcomics', 'total': 1125},\n",
       " {'_id': 'Family', 'total': 554},\n",
       " {'_id': 'Accessories', 'total': 5207},\n",
       " {'_id': 'Product Design', 'total': 38543},\n",
       " {'_id': 'Experimental', 'total': 1549},\n",
       " {'_id': 'Music', 'total': 24241},\n",
       " {'_id': 'Fashion', 'total': 14735},\n",
       " {'_id': 'Theater', 'total': 12044},\n",
       " {'_id': 'Classical Music', 'total': 4592},\n",
       " {'_id': 'Hardware', 'total': 6212},\n",
       " {'_id': 'Civic Design', 'total': 566},\n",
       " {'_id': 'Conceptual Art', 'total': 1715},\n",
       " {'_id': 'Young Adult', 'total': 1422},\n",
       " {'_id': 'Photography', 'total': 9785},\n",
       " {'_id': 'Art', 'total': 14534},\n",
       " {'_id': 'People', 'total': 1952},\n",
       " {'_id': 'Apparel', 'total': 12247},\n",
       " {'_id': 'Flight', 'total': 676},\n",
       " {'_id': 'Knitting', 'total': 328},\n",
       " {'_id': 'Architecture', 'total': 1298},\n",
       " {'_id': 'Farms', 'total': 2096},\n",
       " {'_id': 'Crochet', 'total': 253},\n",
       " {'_id': 'Illustration', 'total': 5431},\n",
       " {'_id': 'Stationery', 'total': 380},\n",
       " {'_id': 'Pet Fashion', 'total': 231},\n",
       " {'_id': 'Video Art', 'total': 279},\n",
       " {'_id': 'Places', 'total': 1233},\n",
       " {'_id': 'Mixed Media', 'total': 4896},\n",
       " {'_id': 'Typography', 'total': 198},\n",
       " {'_id': 'Footwear', 'total': 1597},\n",
       " {'_id': 'Couture', 'total': 472},\n",
       " {'_id': 'Tabletop Games', 'total': 24149},\n",
       " {'_id': 'Sculpture', 'total': 3155},\n",
       " {'_id': 'Live Games', 'total': 1730},\n",
       " {'_id': 'DIY', 'total': 2110},\n",
       " {'_id': \"Children's Books\", 'total': 11636},\n",
       " {'_id': 'Plays', 'total': 2307},\n",
       " {'_id': 'Space Exploration', 'total': 603},\n",
       " {'_id': 'Video', 'total': 645},\n",
       " {'_id': 'Latin', 'total': 269},\n",
       " {'_id': 'Music Videos', 'total': 1287},\n",
       " {'_id': 'Design', 'total': 7105},\n",
       " {'_id': 'World Music', 'total': 3648},\n",
       " {'_id': 'Glass', 'total': 219},\n",
       " {'_id': 'Cookbooks', 'total': 953},\n",
       " {'_id': 'Taxidermy', 'total': 27},\n",
       " {'_id': 'Crafts', 'total': 7976},\n",
       " {'_id': 'Fine Art', 'total': 1264},\n",
       " {'_id': 'DIY Electronics', 'total': 1518},\n",
       " {'_id': 'Childrenswear', 'total': 830},\n",
       " {'_id': 'Photo', 'total': 248},\n",
       " {'_id': 'Electronic Music', 'total': 3716},\n",
       " {'_id': 'Gadgets', 'total': 5220},\n",
       " {'_id': 'Shorts', 'total': 20949},\n",
       " {'_id': 'Anthologies', 'total': 1284},\n",
       " {'_id': 'Painting', 'total': 5510},\n",
       " {'_id': 'Webseries', 'total': 10042},\n",
       " {'_id': 'Camera Equipment', 'total': 727},\n",
       " {'_id': 'Metal', 'total': 1200},\n",
       " {'_id': 'Spaces', 'total': 1455},\n",
       " {'_id': 'Jazz', 'total': 3183},\n",
       " {'_id': 'Journalism', 'total': 2884},\n",
       " {'_id': 'Software', 'total': 5121},\n",
       " {'_id': 'Science Fiction', 'total': 1160},\n",
       " {'_id': 'Digital Art', 'total': 2270},\n",
       " {'_id': 'Jewelry', 'total': 2014},\n",
       " {'_id': 'Web', 'total': 8785},\n",
       " {'_id': 'Food Trucks', 'total': 2979},\n",
       " {'_id': 'Candles', 'total': 732},\n",
       " {'_id': 'Nature', 'total': 947},\n",
       " {'_id': 'Romance', 'total': 314},\n",
       " {'_id': 'Immersive', 'total': 581},\n",
       " {'_id': 'Bacon', 'total': 328},\n",
       " {'_id': 'Dance', 'total': 3906},\n",
       " {'_id': 'R&B', 'total': 740},\n",
       " {'_id': 'Workshops', 'total': 259},\n",
       " {'_id': 'Printing', 'total': 359},\n",
       " {'_id': '3D Printing', 'total': 1189},\n",
       " {'_id': 'Games', 'total': 5703},\n",
       " {'_id': 'Food', 'total': 19956},\n",
       " {'_id': 'Narrative Film', 'total': 9121},\n",
       " {'_id': 'Literary Spaces', 'total': 46},\n",
       " {'_id': 'Translations', 'total': 324},\n",
       " {'_id': 'Blues', 'total': 493},\n",
       " {'_id': 'Television', 'total': 1757},\n",
       " {'_id': 'Country & Folk', 'total': 7690},\n",
       " {'_id': 'Apps', 'total': 10947},\n",
       " {'_id': 'Literary Journals', 'total': 524},\n",
       " {'_id': 'Drama', 'total': 3803},\n",
       " {'_id': 'Graphic Novels', 'total': 3052},\n",
       " {'_id': 'Weaving', 'total': 158},\n",
       " {'_id': 'Audio', 'total': 698},\n",
       " {'_id': 'Pop', 'total': 5648},\n",
       " {'_id': 'Drinks', 'total': 4295},\n",
       " {'_id': 'Poetry', 'total': 2296},\n",
       " {'_id': 'Mobile Games', 'total': 2826},\n",
       " {'_id': 'Events', 'total': 1423},\n",
       " {'_id': 'Faith', 'total': 1919},\n",
       " {'_id': 'Performances', 'total': 1774}]"
      ]
     },
     "execution_count": 61,
     "metadata": {},
     "output_type": "execute_result"
    }
   ],
   "source": [
    "#Compter le nombre de projets pour chaque catégorie.\n",
    "nombrecate = collection.aggregate([{\"$group\":{\"_id\":\"$category\",\"total\":{\"$sum\":1}}}])\n",
    "list(nombrecate)"
   ]
  },
  {
   "cell_type": "markdown",
   "metadata": {},
   "source": [
    "## Question 4"
   ]
  },
  {
   "cell_type": "markdown",
   "metadata": {},
   "source": [
    "## Question 5"
   ]
  },
  {
   "cell_type": "code",
   "execution_count": 62,
   "metadata": {},
   "outputs": [
    {
     "data": {
      "text/plain": [
       "[]"
      ]
     },
     "execution_count": 62,
     "metadata": {},
     "output_type": "execute_result"
    }
   ],
   "source": [
    "#Récupérer les projets américains ayant demandé plus de 200 000 dollars.\n",
    "expensive=collection.find({\"$and\":[{\"Country\":\"US\"},{\"Goal\":{\"$gte\":200000}}]})\n",
    "list(expensive)"
   ]
  },
  {
   "cell_type": "markdown",
   "metadata": {},
   "source": [
    "## Question 6 "
   ]
  },
  {
   "cell_type": "code",
   "execution_count": 64,
   "metadata": {},
   "outputs": [
    {
     "data": {
      "text/plain": [
       "1385"
      ]
     },
     "execution_count": 64,
     "metadata": {},
     "output_type": "execute_result"
    }
   ],
   "source": [
    "#Compter le nombre de projet ayant \"Sport\" dans leur nom\n",
    "Sport=collection.find({\"name\":{'$regex':\"Sport\"}})\n",
    "len(list(Sport))"
   ]
  },
  {
   "cell_type": "code",
   "execution_count": null,
   "metadata": {},
   "outputs": [],
   "source": []
  }
 ],
 "metadata": {
  "kernelspec": {
   "display_name": "Python 3",
   "language": "python",
   "name": "python3"
  },
  "language_info": {
   "codemirror_mode": {
    "name": "ipython",
    "version": 3
   },
   "file_extension": ".py",
   "mimetype": "text/x-python",
   "name": "python",
   "nbconvert_exporter": "python",
   "pygments_lexer": "ipython3",
   "version": "3.6.4"
  }
 },
 "nbformat": 4,
 "nbformat_minor": 2
}
